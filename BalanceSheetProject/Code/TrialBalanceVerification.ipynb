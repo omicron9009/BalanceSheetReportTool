{
 "cells": [
  {
   "cell_type": "code",
   "execution_count": 5,
   "metadata": {},
   "outputs": [
    {
     "name": "stdout",
     "output_type": "stream",
     "text": [
      "Sum of Credits Currnet Year =  1693715.99\n",
      "Sum of Debits Current Year =  1693715.99\n",
      "Status Matched\n",
      "Sum of Credits prev  Year =  31500\n",
      "Sum of Debits  prev Year =  31500\n",
      "Status Matched\n"
     ]
    }
   ],
   "source": [
    "import openpyxl\n",
    "\n",
    "# Load the Excel file\n",
    "path='C:\\\\Users\\\\jadit\\\\OneDrive\\\\Desktop\\\\BalanceSheetProject\\\\ExcelFiles\\\\TriBalanceModified.xlsx'\n",
    "#Upath=input(\"Enter the path to the excel sheet with '\\' \")\n",
    "workbook = openpyxl.load_workbook(path)\n",
    "sheet = workbook.active\n",
    "\n",
    "# Initialize lists to store values\n",
    "current_year_values_dr = []\n",
    "current_year_values_cr =[]\n",
    "prev_year_values_dr = []\n",
    "prev_year_values_cr =[]\n",
    "\n",
    "# Iterate through rows and columns\n",
    "for row in range(2, sheet.max_row):  # Iterate over rows starting from row 2\n",
    "    dr_cr_value = sheet.cell(row=row, column=2).value  # Dr/Cr column\n",
    "    current_Year = sheet.cell(row=row, column=3).value\n",
    "    prev_Year = sheet.cell(row=row, column=4).value\n",
    "    \n",
    "    # Process Current year column\n",
    "    if current_Year is not None and isinstance(current_Year, (int, float)):\n",
    "        if dr_cr_value == 'Cr.':\n",
    "            current_year_values_cr.append(current_Year)\n",
    "        elif dr_cr_value == 'Dr.':\n",
    "            current_year_values_dr.append(current_Year)\n",
    "    \n",
    "    # Process Previous year column\n",
    "    if prev_Year is not None and isinstance(prev_Year, (int, float)):\n",
    "        if dr_cr_value == 'Cr.':\n",
    "            prev_year_values_cr.append(prev_Year)\n",
    "        elif dr_cr_value == 'Dr.':\n",
    "            prev_year_values_dr.append(prev_Year)\n",
    "print(\"Sum of Credits Currnet Year = \",sum(current_year_values_cr))\n",
    "print(\"Sum of Debits Current Year = \",sum(current_year_values_dr))\n",
    "if(sum(current_year_values_cr)==sum(current_year_values_dr)):\n",
    "    print(\"Status Matched\")\n",
    "else:\n",
    "    print(\"Status - Not Matched\")\n",
    "\n",
    "print(\"Sum of Credits prev  Year = \",sum(prev_year_values_cr))\n",
    "print(\"Sum of Debits  prev Year = \",sum(prev_year_values_dr))\n",
    "if(sum(prev_year_values_dr)==sum(prev_year_values_dr)):\n",
    "    print(\"Status Matched\")\n",
    "else:\n",
    "    print(\"Status - Not Matched\")\n",
    "    \n"
   ]
  }
 ],
 "metadata": {
  "kernelspec": {
   "display_name": "base",
   "language": "python",
   "name": "python3"
  },
  "language_info": {
   "codemirror_mode": {
    "name": "ipython",
    "version": 3
   },
   "file_extension": ".py",
   "mimetype": "text/x-python",
   "name": "python",
   "nbconvert_exporter": "python",
   "pygments_lexer": "ipython3",
   "version": "3.11.7"
  }
 },
 "nbformat": 4,
 "nbformat_minor": 2
}
